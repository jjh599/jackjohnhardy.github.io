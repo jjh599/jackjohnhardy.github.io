{
  "cells": [
    {
      "cell_type": "markdown",
      "metadata": {
        "id": "view-in-github",
        "colab_type": "text"
      },
      "source": [
        "<a href=\"https://colab.research.google.com/github/jjh599/jackjohnhardy.github.io/blob/main/OxfordFlowers102CNN.ipynb\" target=\"_parent\"><img src=\"https://colab.research.google.com/assets/colab-badge.svg\" alt=\"Open In Colab\"/></a>"
      ]
    },
    {
      "cell_type": "code",
      "execution_count": 1,
      "metadata": {
        "id": "egaLH944BBD5"
      },
      "outputs": [],
      "source": [
        "import numpy as np\n",
        "import pandas as pd\n",
        "import tensorflow as tf\n",
        "from tensorflow import keras\n",
        "from keras import layers\n",
        "import tensorflow_datasets as tfds\n",
        "import matplotlib.pyplot as plt\n",
        "#device_name = tf.test.gpu_device_name()\n",
        "#if device_name != '/device:GPU:0':\n",
        "#  raise SystemError('GPU device not found')\n",
        "#print('Found GPU at: {}'.format(device_name))\n",
        "\n",
        "dataset, dataset_info = tfds.load('oxford_flowers102', with_info=True, as_supervised=True)\n",
        "dataset_info\n",
        "test_set, training_set, validation_set = dataset['test'], dataset['train'], dataset['validation']"
      ]
    },
    {
      "cell_type": "code",
      "execution_count": 2,
      "metadata": {
        "colab": {
          "base_uri": "https://localhost:8080/"
        },
        "id": "H8JAGNFt3PGE",
        "outputId": "70f9c138-5f1f-4c97-cdb9-21200ea630e9"
      },
      "outputs": [
        {
          "output_type": "stream",
          "name": "stdout",
          "text": [
            "Physical devices cannot be modified after being initialized\n",
            "[PhysicalDevice(name='/physical_device:GPU:0', device_type='GPU')]\n"
          ]
        }
      ],
      "source": [
        "import tensorflow as tf\n",
        "tf.config.experimental.list_physical_devices('GPU')\n",
        "gpus = tf.config.experimental.list_physical_devices('GPU')\n",
        "if gpus:\n",
        "  try:\n",
        "    for gpu in gpus:\n",
        "      tf.config.experimental.set_memory_growth(gpu, True)\n",
        "  except RuntimeError as e:\n",
        "    print(e)\n",
        "\n",
        "print(gpus)"
      ]
    },
    {
      "cell_type": "markdown",
      "metadata": {
        "id": "hgSxJm7OYeKN"
      },
      "source": [
        "Importing TensorFlow "
      ]
    },
    {
      "cell_type": "code",
      "execution_count": 3,
      "metadata": {
        "id": "ql9q6LSWMZRk"
      },
      "outputs": [],
      "source": [
        "num_classes = dataset_info.features['label'].num_classes\n",
        "num_training_examples = 1020\n",
        "num_validation_examples = 1020"
      ]
    },
    {
      "cell_type": "code",
      "execution_count": 4,
      "metadata": {
        "id": "xwksk4asQhtr"
      },
      "outputs": [],
      "source": [
        "IMAGE_RES = 224\n",
        "\n",
        "def format_image(image, label):\n",
        "    image = tf.image.resize(image, (IMAGE_RES, IMAGE_RES))/255.0\n",
        "    #label = tf.one_hot(label, depth=num_classes)\n",
        "    return image, label\n",
        "BATCH_SIZE = 32\n",
        "train_batches = training_set.shuffle(num_training_examples//4).map(format_image).batch(BATCH_SIZE).prefetch(1)\n",
        "validation_batches = validation_set.shuffle(num_validation_examples//4).map(format_image).batch(BATCH_SIZE).prefetch(1)\n",
        "test_batches = test_set.map(format_image).batch(BATCH_SIZE).prefetch(1)\n"
      ]
    },
    {
      "cell_type": "code",
      "execution_count": 11,
      "metadata": {
        "id": "9WgfAXPgjFd5"
      },
      "outputs": [],
      "source": [
        "def make_model(input_shape, num_classes):\n",
        "  model = tf.keras.Sequential()\n",
        "  model.add(layers.RandomFlip(\"horizontal_and_vertical\", input_shape=input_shape))\n",
        "  model.add(layers.RandomRotation(20))\n",
        "  model.add(layers.RandomZoom(0.2))\n",
        "  #model.add(layers.RandomContrast(factor=(0.0, 0.1)))\n",
        "  model.add(layers.Conv2D(64, 3, padding='same', activation='relu')) #64 filters, kernel size 3x3, stride = 1\n",
        "  model.add(layers.BatchNormalization())\n",
        "  model.add(layers.Conv2D(64, 3, padding='same', activation='relu')) \n",
        "  model.add(layers.BatchNormalization())\n",
        "  model.add(layers.MaxPooling2D())                                   #2x2 pooling, stride of 2\n",
        "  model.add(layers.Conv2D(128, 3, padding='same', activation='relu'))\n",
        "  model.add(layers.BatchNormalization())\n",
        "  model.add(layers.Conv2D(128, 3, padding='same', activation='relu'))\n",
        "  model.add(layers.BatchNormalization())\n",
        "  model.add(layers.MaxPooling2D())\n",
        "  model.add(layers.Conv2D(256, 3, padding='same', activation='relu'))\n",
        "  model.add(layers.BatchNormalization())\n",
        "  model.add(layers.Conv2D(256, 3, padding='same', activation='relu'))\n",
        "  model.add(layers.BatchNormalization())\n",
        "  model.add(layers.Conv2D(256, 3, padding='same', activation='relu'))\n",
        "  model.add(layers.BatchNormalization())\n",
        "  model.add(layers.MaxPooling2D())\n",
        "  model.add(layers.Conv2D(512, 3, padding='same', activation='relu'))\n",
        "  model.add(layers.BatchNormalization())\n",
        "  model.add(layers.Conv2D(512, 3, padding='same', activation='relu'))\n",
        "  model.add(layers.BatchNormalization())\n",
        "  model.add(layers.Conv2D(512, 3, padding='same', activation='relu'))\n",
        "  model.add(layers.BatchNormalization())\n",
        "  model.add(layers.MaxPooling2D())\n",
        "  model.add(layers.Conv2D(512, 3, padding='same', activation='relu'))\n",
        "  model.add(layers.BatchNormalization())\n",
        "  model.add(layers.Conv2D(512, 3, padding='same', activation='relu'))\n",
        "  model.add(layers.BatchNormalization())\n",
        "  model.add(layers.Conv2D(512, 3, padding='same', activation='relu'))\n",
        "  model.add(layers.BatchNormalization())\n",
        "  model.add(layers.MaxPooling2D())\n",
        "  model.add(layers.Flatten())\n",
        "  model.add(layers.Dense(4096, activation='relu'))\n",
        "  model.add(layers.Dropout(0.4))\n",
        "  model.add(layers.Dense(4096, activation='relu'))\n",
        "  model.add(layers.Dropout(0.4))\n",
        "  model.add(layers.Dense(1024, activation='relu'))\n",
        "  model.add(layers.Dropout(0.4))\n",
        "  model.add(layers.Dense(num_classes))\n",
        "  return model\n"
      ]
    },
    {
      "cell_type": "code",
      "execution_count": 12,
      "metadata": {
        "id": "tF9v2wo9F8LW"
      },
      "outputs": [],
      "source": [
        "tf.keras.backend.clear_session()"
      ]
    },
    {
      "cell_type": "code",
      "execution_count": 13,
      "metadata": {
        "colab": {
          "base_uri": "https://localhost:8080/",
          "height": 1000
        },
        "id": "pumHmqXelH38",
        "outputId": "9c8676ec-a573-441c-872c-f83a2909725f"
      },
      "outputs": [
        {
          "output_type": "stream",
          "name": "stdout",
          "text": [
            "Epoch 1/150\n",
            "32/32 [==============================] - 25s 630ms/step - loss: 5.6868 - accuracy: 0.0176 - val_loss: 4.6203 - val_accuracy: 0.0098 - lr: 0.0100\n",
            "Epoch 2/150\n",
            "32/32 [==============================] - 21s 639ms/step - loss: 4.8771 - accuracy: 0.0206 - val_loss: 4.6143 - val_accuracy: 0.0167 - lr: 0.0100\n",
            "Epoch 3/150\n",
            "32/32 [==============================] - 20s 626ms/step - loss: 4.6440 - accuracy: 0.0265 - val_loss: 4.5854 - val_accuracy: 0.0186 - lr: 0.0100\n",
            "Epoch 4/150\n",
            "32/32 [==============================] - 21s 644ms/step - loss: 4.5026 - accuracy: 0.0324 - val_loss: 4.5824 - val_accuracy: 0.0167 - lr: 0.0100\n",
            "Epoch 5/150\n",
            "32/32 [==============================] - 20s 627ms/step - loss: 4.3130 - accuracy: 0.0500 - val_loss: 4.5569 - val_accuracy: 0.0206 - lr: 0.0100\n",
            "Epoch 6/150\n",
            "32/32 [==============================] - 21s 645ms/step - loss: 4.2251 - accuracy: 0.0794 - val_loss: 4.5574 - val_accuracy: 0.0167 - lr: 0.0100\n",
            "Epoch 7/150\n",
            "32/32 [==============================] - 21s 650ms/step - loss: 4.1428 - accuracy: 0.0804 - val_loss: 4.5606 - val_accuracy: 0.0225 - lr: 0.0100\n",
            "Epoch 8/150\n",
            "32/32 [==============================] - 21s 652ms/step - loss: 3.9994 - accuracy: 0.0873 - val_loss: 4.5784 - val_accuracy: 0.0304 - lr: 0.0100\n",
            "Epoch 9/150\n",
            "32/32 [==============================] - 21s 651ms/step - loss: 3.8292 - accuracy: 0.0980 - val_loss: 4.3010 - val_accuracy: 0.0461 - lr: 0.0050\n",
            "Epoch 10/150\n",
            "32/32 [==============================] - 21s 652ms/step - loss: 3.7316 - accuracy: 0.1088 - val_loss: 4.1890 - val_accuracy: 0.0627 - lr: 0.0050\n",
            "Epoch 11/150\n",
            "32/32 [==============================] - 21s 643ms/step - loss: 3.6597 - accuracy: 0.1245 - val_loss: 4.0930 - val_accuracy: 0.0775 - lr: 0.0050\n",
            "Epoch 12/150\n",
            "32/32 [==============================] - 21s 646ms/step - loss: 3.6436 - accuracy: 0.1167 - val_loss: 3.8325 - val_accuracy: 0.1127 - lr: 0.0050\n",
            "Epoch 13/150\n",
            "32/32 [==============================] - 20s 630ms/step - loss: 3.5528 - accuracy: 0.1373 - val_loss: 3.7365 - val_accuracy: 0.1314 - lr: 0.0050\n",
            "Epoch 14/150\n",
            "32/32 [==============================] - 21s 649ms/step - loss: 3.5520 - accuracy: 0.1392 - val_loss: 3.6671 - val_accuracy: 0.1294 - lr: 0.0050\n",
            "Epoch 15/150\n",
            "32/32 [==============================] - 21s 649ms/step - loss: 3.4367 - accuracy: 0.1588 - val_loss: 3.5038 - val_accuracy: 0.1559 - lr: 0.0050\n",
            "Epoch 16/150\n",
            "32/32 [==============================] - 21s 641ms/step - loss: 3.3575 - accuracy: 0.1637 - val_loss: 3.4210 - val_accuracy: 0.1843 - lr: 0.0050\n",
            "Epoch 17/150\n",
            "32/32 [==============================] - 21s 635ms/step - loss: 3.4319 - accuracy: 0.1510 - val_loss: 3.3743 - val_accuracy: 0.1814 - lr: 0.0050\n",
            "Epoch 18/150\n",
            "32/32 [==============================] - 21s 648ms/step - loss: 3.3335 - accuracy: 0.1696 - val_loss: 3.3849 - val_accuracy: 0.1863 - lr: 0.0050\n",
            "Epoch 19/150\n",
            "32/32 [==============================] - 21s 634ms/step - loss: 3.3391 - accuracy: 0.1637 - val_loss: 3.3075 - val_accuracy: 0.2029 - lr: 0.0050\n",
            "Epoch 20/150\n",
            "32/32 [==============================] - 21s 637ms/step - loss: 3.2656 - accuracy: 0.1971 - val_loss: 3.2479 - val_accuracy: 0.2167 - lr: 0.0050\n",
            "Epoch 21/150\n",
            "32/32 [==============================] - 21s 647ms/step - loss: 3.1971 - accuracy: 0.1843 - val_loss: 3.2735 - val_accuracy: 0.2098 - lr: 0.0050\n",
            "Epoch 22/150\n",
            "32/32 [==============================] - 21s 647ms/step - loss: 3.2156 - accuracy: 0.1951 - val_loss: 3.2947 - val_accuracy: 0.1971 - lr: 0.0050\n",
            "Epoch 23/150\n",
            "32/32 [==============================] - 21s 645ms/step - loss: 3.1739 - accuracy: 0.2039 - val_loss: 3.1875 - val_accuracy: 0.2265 - lr: 0.0050\n",
            "Epoch 24/150\n",
            "32/32 [==============================] - 21s 645ms/step - loss: 3.1253 - accuracy: 0.1902 - val_loss: 3.2342 - val_accuracy: 0.2167 - lr: 0.0050\n",
            "Epoch 25/150\n",
            "32/32 [==============================] - 21s 645ms/step - loss: 3.0854 - accuracy: 0.2098 - val_loss: 3.1890 - val_accuracy: 0.2225 - lr: 0.0050\n",
            "Epoch 26/150\n",
            "32/32 [==============================] - 20s 627ms/step - loss: 3.0760 - accuracy: 0.2225 - val_loss: 3.1724 - val_accuracy: 0.2441 - lr: 0.0050\n",
            "Epoch 27/150\n",
            "32/32 [==============================] - 21s 646ms/step - loss: 3.0365 - accuracy: 0.2147 - val_loss: 3.1727 - val_accuracy: 0.2304 - lr: 0.0050\n",
            "Epoch 28/150\n",
            "32/32 [==============================] - 21s 649ms/step - loss: 2.9660 - accuracy: 0.2471 - val_loss: 3.1904 - val_accuracy: 0.2118 - lr: 0.0050\n",
            "Epoch 29/150\n",
            "32/32 [==============================] - 21s 652ms/step - loss: 2.9492 - accuracy: 0.2422 - val_loss: 3.2691 - val_accuracy: 0.2059 - lr: 0.0050\n",
            "Epoch 30/150\n",
            "32/32 [==============================] - 21s 645ms/step - loss: 2.8583 - accuracy: 0.2794 - val_loss: 3.0606 - val_accuracy: 0.2402 - lr: 0.0025\n",
            "Epoch 31/150\n",
            "32/32 [==============================] - 21s 647ms/step - loss: 2.8456 - accuracy: 0.2392 - val_loss: 3.0931 - val_accuracy: 0.2441 - lr: 0.0025\n",
            "Epoch 32/150\n",
            "32/32 [==============================] - 21s 647ms/step - loss: 2.7621 - accuracy: 0.2725 - val_loss: 3.1656 - val_accuracy: 0.2225 - lr: 0.0025\n",
            "Epoch 33/150\n",
            "32/32 [==============================] - 21s 643ms/step - loss: 2.7144 - accuracy: 0.2794 - val_loss: 3.0911 - val_accuracy: 0.2412 - lr: 0.0025\n",
            "Epoch 34/150\n",
            "32/32 [==============================] - 21s 648ms/step - loss: 2.7677 - accuracy: 0.2716 - val_loss: 3.0332 - val_accuracy: 0.2461 - lr: 0.0012\n",
            "Epoch 35/150\n",
            "32/32 [==============================] - 21s 640ms/step - loss: 2.6694 - accuracy: 0.2853 - val_loss: 3.0028 - val_accuracy: 0.2608 - lr: 0.0012\n",
            "Epoch 36/150\n",
            "32/32 [==============================] - 21s 654ms/step - loss: 2.6945 - accuracy: 0.2814 - val_loss: 2.9894 - val_accuracy: 0.2676 - lr: 0.0012\n",
            "Epoch 37/150\n",
            "32/32 [==============================] - 21s 635ms/step - loss: 2.6782 - accuracy: 0.3010 - val_loss: 2.9944 - val_accuracy: 0.2578 - lr: 0.0012\n",
            "Epoch 38/150\n",
            "32/32 [==============================] - 21s 640ms/step - loss: 2.6988 - accuracy: 0.2882 - val_loss: 2.9924 - val_accuracy: 0.2647 - lr: 0.0012\n",
            "Epoch 39/150\n",
            "32/32 [==============================] - 21s 650ms/step - loss: 2.6791 - accuracy: 0.2941 - val_loss: 2.9998 - val_accuracy: 0.2598 - lr: 0.0012\n",
            "Epoch 40/150\n",
            "32/32 [==============================] - 20s 633ms/step - loss: 2.6310 - accuracy: 0.3020 - val_loss: 2.9879 - val_accuracy: 0.2598 - lr: 6.2500e-04\n",
            "Epoch 41/150\n",
            "32/32 [==============================] - 21s 649ms/step - loss: 2.6849 - accuracy: 0.2814 - val_loss: 2.9905 - val_accuracy: 0.2657 - lr: 6.2500e-04\n",
            "Epoch 42/150\n",
            "32/32 [==============================] - 21s 634ms/step - loss: 2.5950 - accuracy: 0.3216 - val_loss: 2.9891 - val_accuracy: 0.2657 - lr: 6.2500e-04\n",
            "Epoch 43/150\n",
            "32/32 [==============================] - 21s 643ms/step - loss: 2.6448 - accuracy: 0.3020 - val_loss: 2.9932 - val_accuracy: 0.2598 - lr: 6.2500e-04\n",
            "Epoch 44/150\n",
            "32/32 [==============================] - 21s 642ms/step - loss: 2.6167 - accuracy: 0.2971 - val_loss: 2.9910 - val_accuracy: 0.2647 - lr: 3.1250e-04\n",
            "Epoch 45/150\n",
            "32/32 [==============================] - 20s 629ms/step - loss: 2.6033 - accuracy: 0.3000 - val_loss: 2.9876 - val_accuracy: 0.2657 - lr: 3.1250e-04\n",
            "Epoch 46/150\n",
            "32/32 [==============================] - 21s 635ms/step - loss: 2.5381 - accuracy: 0.3255 - val_loss: 2.9811 - val_accuracy: 0.2667 - lr: 3.1250e-04\n",
            "Epoch 47/150\n",
            "32/32 [==============================] - 21s 648ms/step - loss: 2.6134 - accuracy: 0.3020 - val_loss: 2.9793 - val_accuracy: 0.2657 - lr: 3.1250e-04\n",
            "Epoch 48/150\n",
            "32/32 [==============================] - 21s 650ms/step - loss: 2.6017 - accuracy: 0.3020 - val_loss: 2.9760 - val_accuracy: 0.2627 - lr: 3.1250e-04\n",
            "Epoch 49/150\n",
            "32/32 [==============================] - 21s 636ms/step - loss: 2.5736 - accuracy: 0.3088 - val_loss: 2.9757 - val_accuracy: 0.2657 - lr: 3.1250e-04\n",
            "Epoch 50/150\n",
            "32/32 [==============================] - 21s 650ms/step - loss: 2.5639 - accuracy: 0.2912 - val_loss: 2.9806 - val_accuracy: 0.2657 - lr: 3.1250e-04\n",
            "Epoch 51/150\n",
            "32/32 [==============================] - 21s 645ms/step - loss: 2.5710 - accuracy: 0.3176 - val_loss: 2.9763 - val_accuracy: 0.2676 - lr: 3.1250e-04\n",
            "Epoch 52/150\n",
            "32/32 [==============================] - ETA: 0s - loss: 2.5441 - accuracy: 0.3373"
          ]
        },
        {
          "output_type": "error",
          "ename": "KeyboardInterrupt",
          "evalue": "ignored",
          "traceback": [
            "\u001b[0;31m---------------------------------------------------------------------------\u001b[0m",
            "\u001b[0;31mKeyboardInterrupt\u001b[0m                         Traceback (most recent call last)",
            "\u001b[0;32m<ipython-input-13-86b3b7a21040>\u001b[0m in \u001b[0;36m<cell line: 14>\u001b[0;34m()\u001b[0m\n\u001b[1;32m     12\u001b[0m )\n\u001b[1;32m     13\u001b[0m \u001b[0;34m\u001b[0m\u001b[0m\n\u001b[0;32m---> 14\u001b[0;31m model.fit(\n\u001b[0m\u001b[1;32m     15\u001b[0m     \u001b[0mtrain_batches\u001b[0m\u001b[0;34m,\u001b[0m\u001b[0;34m\u001b[0m\u001b[0;34m\u001b[0m\u001b[0m\n\u001b[1;32m     16\u001b[0m     \u001b[0mepochs\u001b[0m\u001b[0;34m=\u001b[0m\u001b[0mepochs\u001b[0m\u001b[0;34m,\u001b[0m\u001b[0;34m\u001b[0m\u001b[0;34m\u001b[0m\u001b[0m\n",
            "\u001b[0;32m/usr/local/lib/python3.10/dist-packages/keras/utils/traceback_utils.py\u001b[0m in \u001b[0;36merror_handler\u001b[0;34m(*args, **kwargs)\u001b[0m\n\u001b[1;32m     63\u001b[0m         \u001b[0mfiltered_tb\u001b[0m \u001b[0;34m=\u001b[0m \u001b[0;32mNone\u001b[0m\u001b[0;34m\u001b[0m\u001b[0;34m\u001b[0m\u001b[0m\n\u001b[1;32m     64\u001b[0m         \u001b[0;32mtry\u001b[0m\u001b[0;34m:\u001b[0m\u001b[0;34m\u001b[0m\u001b[0;34m\u001b[0m\u001b[0m\n\u001b[0;32m---> 65\u001b[0;31m             \u001b[0;32mreturn\u001b[0m \u001b[0mfn\u001b[0m\u001b[0;34m(\u001b[0m\u001b[0;34m*\u001b[0m\u001b[0margs\u001b[0m\u001b[0;34m,\u001b[0m \u001b[0;34m**\u001b[0m\u001b[0mkwargs\u001b[0m\u001b[0;34m)\u001b[0m\u001b[0;34m\u001b[0m\u001b[0;34m\u001b[0m\u001b[0m\n\u001b[0m\u001b[1;32m     66\u001b[0m         \u001b[0;32mexcept\u001b[0m \u001b[0mException\u001b[0m \u001b[0;32mas\u001b[0m \u001b[0me\u001b[0m\u001b[0;34m:\u001b[0m\u001b[0;34m\u001b[0m\u001b[0;34m\u001b[0m\u001b[0m\n\u001b[1;32m     67\u001b[0m             \u001b[0mfiltered_tb\u001b[0m \u001b[0;34m=\u001b[0m \u001b[0m_process_traceback_frames\u001b[0m\u001b[0;34m(\u001b[0m\u001b[0me\u001b[0m\u001b[0;34m.\u001b[0m\u001b[0m__traceback__\u001b[0m\u001b[0;34m)\u001b[0m\u001b[0;34m\u001b[0m\u001b[0;34m\u001b[0m\u001b[0m\n",
            "\u001b[0;32m/usr/local/lib/python3.10/dist-packages/keras/engine/training.py\u001b[0m in \u001b[0;36mfit\u001b[0;34m(self, x, y, batch_size, epochs, verbose, callbacks, validation_split, validation_data, shuffle, class_weight, sample_weight, initial_epoch, steps_per_epoch, validation_steps, validation_batch_size, validation_freq, max_queue_size, workers, use_multiprocessing)\u001b[0m\n\u001b[1;32m   1727\u001b[0m                             \u001b[0msteps_per_execution\u001b[0m\u001b[0;34m=\u001b[0m\u001b[0mself\u001b[0m\u001b[0;34m.\u001b[0m\u001b[0m_steps_per_execution\u001b[0m\u001b[0;34m,\u001b[0m\u001b[0;34m\u001b[0m\u001b[0;34m\u001b[0m\u001b[0m\n\u001b[1;32m   1728\u001b[0m                         )\n\u001b[0;32m-> 1729\u001b[0;31m                     val_logs = self.evaluate(\n\u001b[0m\u001b[1;32m   1730\u001b[0m                         \u001b[0mx\u001b[0m\u001b[0;34m=\u001b[0m\u001b[0mval_x\u001b[0m\u001b[0;34m,\u001b[0m\u001b[0;34m\u001b[0m\u001b[0;34m\u001b[0m\u001b[0m\n\u001b[1;32m   1731\u001b[0m                         \u001b[0my\u001b[0m\u001b[0;34m=\u001b[0m\u001b[0mval_y\u001b[0m\u001b[0;34m,\u001b[0m\u001b[0;34m\u001b[0m\u001b[0;34m\u001b[0m\u001b[0m\n",
            "\u001b[0;32m/usr/local/lib/python3.10/dist-packages/keras/utils/traceback_utils.py\u001b[0m in \u001b[0;36merror_handler\u001b[0;34m(*args, **kwargs)\u001b[0m\n\u001b[1;32m     63\u001b[0m         \u001b[0mfiltered_tb\u001b[0m \u001b[0;34m=\u001b[0m \u001b[0;32mNone\u001b[0m\u001b[0;34m\u001b[0m\u001b[0;34m\u001b[0m\u001b[0m\n\u001b[1;32m     64\u001b[0m         \u001b[0;32mtry\u001b[0m\u001b[0;34m:\u001b[0m\u001b[0;34m\u001b[0m\u001b[0;34m\u001b[0m\u001b[0m\n\u001b[0;32m---> 65\u001b[0;31m             \u001b[0;32mreturn\u001b[0m \u001b[0mfn\u001b[0m\u001b[0;34m(\u001b[0m\u001b[0;34m*\u001b[0m\u001b[0margs\u001b[0m\u001b[0;34m,\u001b[0m \u001b[0;34m**\u001b[0m\u001b[0mkwargs\u001b[0m\u001b[0;34m)\u001b[0m\u001b[0;34m\u001b[0m\u001b[0;34m\u001b[0m\u001b[0m\n\u001b[0m\u001b[1;32m     66\u001b[0m         \u001b[0;32mexcept\u001b[0m \u001b[0mException\u001b[0m \u001b[0;32mas\u001b[0m \u001b[0me\u001b[0m\u001b[0;34m:\u001b[0m\u001b[0;34m\u001b[0m\u001b[0;34m\u001b[0m\u001b[0m\n\u001b[1;32m     67\u001b[0m             \u001b[0mfiltered_tb\u001b[0m \u001b[0;34m=\u001b[0m \u001b[0m_process_traceback_frames\u001b[0m\u001b[0;34m(\u001b[0m\u001b[0me\u001b[0m\u001b[0;34m.\u001b[0m\u001b[0m__traceback__\u001b[0m\u001b[0;34m)\u001b[0m\u001b[0;34m\u001b[0m\u001b[0;34m\u001b[0m\u001b[0m\n",
            "\u001b[0;31mKeyboardInterrupt\u001b[0m: "
          ]
        }
      ],
      "source": [
        "model = make_model(input_shape=(IMAGE_RES, IMAGE_RES) + (3,), num_classes=102)\n",
        "#keras.utils.plot_model(model, show_shapes=True)\n",
        "\n",
        "epochs = 150\n",
        "\n",
        "reduce_lr = tf.keras.callbacks.ReduceLROnPlateau(monitor='val_loss', factor=0.5, patience=3, min_lr=0.000001)\n",
        "\n",
        "model.compile(\n",
        "    optimizer=tf.keras.optimizers.SGD(),\n",
        "    loss=tf.keras.losses.SparseCategoricalCrossentropy(from_logits=True),\n",
        "    metrics=[\"accuracy\"],\n",
        ")\n",
        "\n",
        "model.fit(\n",
        "    train_batches,\n",
        "    epochs=epochs,\n",
        "    validation_data=validation_batches,\n",
        "    batch_size=BATCH_SIZE,\n",
        "    validation_batch_size=BATCH_SIZE,\n",
        "    verbose=1,\n",
        "    callbacks=[reduce_lr]\n",
        ")"
      ]
    },
    {
      "cell_type": "code",
      "source": [
        "model.save('OxfordFlowers102-2.keras')"
      ],
      "metadata": {
        "id": "3tNYk4A0-VT7"
      },
      "execution_count": 15,
      "outputs": []
    },
    {
      "cell_type": "code",
      "execution_count": 8,
      "metadata": {
        "colab": {
          "base_uri": "https://localhost:8080/"
        },
        "id": "4324daheKXsn",
        "outputId": "76f52dbc-a7ed-410a-a2d2-9cf1425db1ed"
      },
      "outputs": [
        {
          "output_type": "stream",
          "name": "stdout",
          "text": [
            "193/193 [==============================] - 27s 140ms/step - loss: 3.2010 - accuracy: 0.2420\n",
            "Test accuracy: 0.2419905662536621\n"
          ]
        }
      ],
      "source": [
        "test_loss, test_acc = model.evaluate(test_batches, verbose=1, batch_size=BATCH_SIZE)\n",
        "print(\"Test accuracy:\", test_acc)"
      ]
    }
  ],
  "metadata": {
    "accelerator": "GPU",
    "colab": {
      "gpuType": "T4",
      "provenance": [],
      "include_colab_link": true
    },
    "gpuClass": "standard",
    "kernelspec": {
      "display_name": "Python 3",
      "name": "python3"
    },
    "language_info": {
      "codemirror_mode": {
        "name": "ipython",
        "version": 3
      },
      "file_extension": ".py",
      "mimetype": "text/x-python",
      "name": "python",
      "nbconvert_exporter": "python",
      "pygments_lexer": "ipython3",
      "version": "3.11.1"
    }
  },
  "nbformat": 4,
  "nbformat_minor": 0
}