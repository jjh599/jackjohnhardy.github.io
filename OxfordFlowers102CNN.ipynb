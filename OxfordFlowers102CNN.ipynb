{
  "cells": [
    {
      "cell_type": "markdown",
      "metadata": {
        "id": "view-in-github",
        "colab_type": "text"
      },
      "source": [
        "<a href=\"https://colab.research.google.com/github/jjh599/jackjohnhardy.github.io/blob/main/OxfordFlowers102CNN.ipynb\" target=\"_parent\"><img src=\"https://colab.research.google.com/assets/colab-badge.svg\" alt=\"Open In Colab\"/></a>"
      ]
    },
    {
      "cell_type": "code",
      "execution_count": 1,
      "metadata": {
        "id": "egaLH944BBD5"
      },
      "outputs": [],
      "source": [
        "import numpy as np\n",
        "import pandas as pd\n",
        "import tensorflow as tf\n",
        "from tensorflow import keras\n",
        "from keras import layers\n",
        "import tensorflow_datasets as tfds\n",
        "import matplotlib.pyplot as plt\n",
        "#device_name = tf.test.gpu_device_name()\n",
        "#if device_name != '/device:GPU:0':\n",
        "#  raise SystemError('GPU device not found')\n",
        "#print('Found GPU at: {}'.format(device_name))\n",
        "\n",
        "dataset, dataset_info = tfds.load('oxford_flowers102', with_info=True, as_supervised=True)\n",
        "dataset_info\n",
        "test_set, training_set, validation_set = dataset['test'], dataset['train'], dataset['validation']"
      ]
    },
    {
      "cell_type": "code",
      "execution_count": 2,
      "metadata": {
        "colab": {
          "base_uri": "https://localhost:8080/"
        },
        "id": "H8JAGNFt3PGE",
        "outputId": "70f9c138-5f1f-4c97-cdb9-21200ea630e9"
      },
      "outputs": [
        {
          "output_type": "stream",
          "name": "stdout",
          "text": [
            "Physical devices cannot be modified after being initialized\n",
            "[PhysicalDevice(name='/physical_device:GPU:0', device_type='GPU')]\n"
          ]
        }
      ],
      "source": [
        "import tensorflow as tf\n",
        "tf.config.experimental.list_physical_devices('GPU')\n",
        "gpus = tf.config.experimental.list_physical_devices('GPU')\n",
        "if gpus:\n",
        "  try:\n",
        "    for gpu in gpus:\n",
        "      tf.config.experimental.set_memory_growth(gpu, True)\n",
        "  except RuntimeError as e:\n",
        "    print(e)\n",
        "\n",
        "print(gpus)"
      ]
    },
    {
      "cell_type": "markdown",
      "metadata": {
        "id": "hgSxJm7OYeKN"
      },
      "source": [
        "Importing TensorFlow "
      ]
    },
    {
      "cell_type": "code",
      "execution_count": 3,
      "metadata": {
        "id": "ql9q6LSWMZRk"
      },
      "outputs": [],
      "source": [
        "num_classes = dataset_info.features['label'].num_classes\n",
        "num_training_examples = 1020\n",
        "num_validation_examples = 1020"
      ]
    },
    {
      "cell_type": "code",
      "execution_count": 4,
      "metadata": {
        "id": "xwksk4asQhtr"
      },
      "outputs": [],
      "source": [
        "IMAGE_RES = 224\n",
        "\n",
        "def format_image(image, label):\n",
        "    image = tf.image.resize(image, (IMAGE_RES, IMAGE_RES))/255.0\n",
        "    #label = tf.one_hot(label, depth=num_classes)\n",
        "    return image, label\n",
        "BATCH_SIZE = 32\n",
        "train_batches = training_set.shuffle(num_training_examples//4).map(format_image).batch(BATCH_SIZE).prefetch(1)\n",
        "validation_batches = validation_set.shuffle(num_validation_examples//4).map(format_image).batch(BATCH_SIZE).prefetch(1)\n",
        "test_batches = test_set.map(format_image).batch(BATCH_SIZE).prefetch(1)\n"
      ]
    },
    {
      "cell_type": "code",
      "execution_count": 5,
      "metadata": {
        "id": "9WgfAXPgjFd5"
      },
      "outputs": [],
      "source": [
        "def make_model(input_shape, num_classes):\n",
        "  model = tf.keras.Sequential()\n",
        "  model.add(layers.RandomFlip(\"horizontal_and_vertical\", input_shape=input_shape))\n",
        "  model.add(layers.RandomRotation(20))\n",
        "  model.add(layers.RandomZoom(0.2))\n",
        "  #model.add(layers.RandomContrast(factor=(0.0, 0.1)))\n",
        "  model.add(layers.Conv2D(64, 3, padding='same', activation='relu')) #64 filters, kernel size 3x3, stride = 1\n",
        "  model.add(layers.BatchNormalization())\n",
        "  model.add(layers.Conv2D(64, 3, padding='same', activation='relu')) \n",
        "  model.add(layers.BatchNormalization())\n",
        "  model.add(layers.MaxPooling2D())                                   #2x2 pooling, stride of 2\n",
        "  model.add(layers.Conv2D(128, 3, padding='same', activation='relu'))\n",
        "  model.add(layers.BatchNormalization())\n",
        "  model.add(layers.Conv2D(128, 3, padding='same', activation='relu'))\n",
        "  model.add(layers.BatchNormalization())\n",
        "  model.add(layers.MaxPooling2D())\n",
        "  model.add(layers.Conv2D(256, 3, padding='same', activation='relu'))\n",
        "  model.add(layers.BatchNormalization())\n",
        "  model.add(layers.Conv2D(256, 3, padding='same', activation='relu'))\n",
        "  model.add(layers.BatchNormalization())\n",
        "  model.add(layers.Conv2D(256, 3, padding='same', activation='relu'))\n",
        "  model.add(layers.BatchNormalization())\n",
        "  model.add(layers.MaxPooling2D())\n",
        "  model.add(layers.Conv2D(512, 3, padding='same', activation='relu'))\n",
        "  model.add(layers.BatchNormalization())\n",
        "  model.add(layers.Conv2D(512, 3, padding='same', activation='relu'))\n",
        "  model.add(layers.BatchNormalization())\n",
        "  model.add(layers.Conv2D(512, 3, padding='same', activation='relu'))\n",
        "  model.add(layers.BatchNormalization())\n",
        "  model.add(layers.MaxPooling2D())\n",
        "  model.add(layers.Conv2D(512, 3, padding='same', activation='relu'))\n",
        "  model.add(layers.BatchNormalization())\n",
        "  model.add(layers.Conv2D(512, 3, padding='same', activation='relu'))\n",
        "  model.add(layers.BatchNormalization())\n",
        "  model.add(layers.Conv2D(512, 3, padding='same', activation='relu'))\n",
        "  model.add(layers.BatchNormalization())\n",
        "  model.add(layers.MaxPooling2D())\n",
        "  model.add(layers.Flatten())\n",
        "  model.add(layers.Dense(4096, activation='relu'))\n",
        "  model.add(layers.Dropout(0.5))\n",
        "  model.add(layers.Dense(4096, activation='relu'))\n",
        "  model.add(layers.Dropout(0.5))\n",
        "  model.add(layers.Dense(1024, activation='relu'))\n",
        "  model.add(layers.Dropout(0.5))\n",
        "  model.add(layers.Dense(num_classes))\n",
        "  return model\n"
      ]
    },
    {
      "cell_type": "code",
      "execution_count": 6,
      "metadata": {
        "id": "tF9v2wo9F8LW"
      },
      "outputs": [],
      "source": [
        "tf.keras.backend.clear_session()"
      ]
    },
    {
      "cell_type": "code",
      "execution_count": 7,
      "metadata": {
        "colab": {
          "base_uri": "https://localhost:8080/"
        },
        "id": "pumHmqXelH38",
        "outputId": "e27b7bc5-fe62-46f7-fa28-1fdaec9562e7"
      },
      "outputs": [
        {
          "output_type": "stream",
          "name": "stdout",
          "text": [
            "Epoch 1/50\n",
            "32/32 [==============================] - 58s 1s/step - loss: 8.6423 - accuracy: 0.0108 - val_loss: 4.6294 - val_accuracy: 0.0098 - lr: 1.0000e-04\n",
            "Epoch 2/50\n",
            "32/32 [==============================] - 21s 641ms/step - loss: 5.4733 - accuracy: 0.0127 - val_loss: 4.6325 - val_accuracy: 0.0098 - lr: 1.0000e-04\n",
            "Epoch 3/50\n",
            "32/32 [==============================] - 21s 661ms/step - loss: 5.0890 - accuracy: 0.0176 - val_loss: 4.6374 - val_accuracy: 0.0098 - lr: 1.0000e-04\n",
            "Epoch 4/50\n",
            "32/32 [==============================] - 21s 636ms/step - loss: 4.9040 - accuracy: 0.0245 - val_loss: 4.6482 - val_accuracy: 0.0088 - lr: 1.0000e-04\n",
            "Epoch 5/50\n",
            "32/32 [==============================] - 21s 653ms/step - loss: 4.8157 - accuracy: 0.0284 - val_loss: 4.6774 - val_accuracy: 0.0098 - lr: 1.0000e-04\n",
            "Epoch 6/50\n",
            "32/32 [==============================] - 21s 652ms/step - loss: 4.6591 - accuracy: 0.0275 - val_loss: 4.6630 - val_accuracy: 0.0098 - lr: 1.0000e-04\n",
            "Epoch 7/50\n",
            "32/32 [==============================] - 21s 643ms/step - loss: 4.5487 - accuracy: 0.0324 - val_loss: 4.6640 - val_accuracy: 0.0108 - lr: 5.0000e-05\n",
            "Epoch 8/50\n",
            "32/32 [==============================] - 21s 642ms/step - loss: 4.4633 - accuracy: 0.0422 - val_loss: 4.6935 - val_accuracy: 0.0137 - lr: 5.0000e-05\n",
            "Epoch 9/50\n",
            "32/32 [==============================] - 21s 646ms/step - loss: 4.4351 - accuracy: 0.0412 - val_loss: 4.7104 - val_accuracy: 0.0098 - lr: 5.0000e-05\n",
            "Epoch 10/50\n",
            "32/32 [==============================] - 21s 662ms/step - loss: 4.3338 - accuracy: 0.0647 - val_loss: 4.7010 - val_accuracy: 0.0098 - lr: 5.0000e-05\n",
            "Epoch 11/50\n",
            "32/32 [==============================] - 21s 660ms/step - loss: 4.2573 - accuracy: 0.0676 - val_loss: 4.6886 - val_accuracy: 0.0176 - lr: 5.0000e-05\n",
            "Epoch 12/50\n",
            "32/32 [==============================] - 21s 656ms/step - loss: 4.0954 - accuracy: 0.0814 - val_loss: 4.6980 - val_accuracy: 0.0206 - lr: 2.5000e-05\n",
            "Epoch 13/50\n",
            "32/32 [==============================] - 21s 657ms/step - loss: 4.1860 - accuracy: 0.0657 - val_loss: 4.6292 - val_accuracy: 0.0147 - lr: 2.5000e-05\n",
            "Epoch 14/50\n",
            "32/32 [==============================] - 21s 660ms/step - loss: 4.1464 - accuracy: 0.0765 - val_loss: 4.5369 - val_accuracy: 0.0255 - lr: 2.5000e-05\n",
            "Epoch 15/50\n",
            "32/32 [==============================] - 21s 663ms/step - loss: 4.0965 - accuracy: 0.0922 - val_loss: 4.3840 - val_accuracy: 0.0451 - lr: 2.5000e-05\n",
            "Epoch 16/50\n",
            "32/32 [==============================] - 21s 655ms/step - loss: 4.0155 - accuracy: 0.0990 - val_loss: 4.2069 - val_accuracy: 0.0627 - lr: 2.5000e-05\n",
            "Epoch 17/50\n",
            "32/32 [==============================] - 21s 660ms/step - loss: 3.9967 - accuracy: 0.0971 - val_loss: 4.0798 - val_accuracy: 0.0912 - lr: 2.5000e-05\n",
            "Epoch 18/50\n",
            "32/32 [==============================] - 21s 651ms/step - loss: 3.9519 - accuracy: 0.1010 - val_loss: 3.9418 - val_accuracy: 0.1206 - lr: 2.5000e-05\n",
            "Epoch 19/50\n",
            "32/32 [==============================] - 21s 654ms/step - loss: 3.8666 - accuracy: 0.1137 - val_loss: 3.7923 - val_accuracy: 0.1392 - lr: 2.5000e-05\n",
            "Epoch 20/50\n",
            "32/32 [==============================] - 22s 656ms/step - loss: 3.9089 - accuracy: 0.1029 - val_loss: 3.6849 - val_accuracy: 0.1784 - lr: 2.5000e-05\n",
            "Epoch 21/50\n",
            "32/32 [==============================] - 21s 643ms/step - loss: 3.8457 - accuracy: 0.1108 - val_loss: 3.6173 - val_accuracy: 0.1941 - lr: 2.5000e-05\n",
            "Epoch 22/50\n",
            "32/32 [==============================] - 21s 638ms/step - loss: 3.8493 - accuracy: 0.1235 - val_loss: 3.5964 - val_accuracy: 0.1863 - lr: 2.5000e-05\n",
            "Epoch 23/50\n",
            "32/32 [==============================] - 21s 656ms/step - loss: 3.7675 - accuracy: 0.1206 - val_loss: 3.5344 - val_accuracy: 0.1794 - lr: 2.5000e-05\n",
            "Epoch 24/50\n",
            "32/32 [==============================] - 21s 641ms/step - loss: 3.8026 - accuracy: 0.1275 - val_loss: 3.5397 - val_accuracy: 0.1804 - lr: 2.5000e-05\n",
            "Epoch 25/50\n",
            "32/32 [==============================] - 21s 659ms/step - loss: 3.6558 - accuracy: 0.1451 - val_loss: 3.4692 - val_accuracy: 0.1931 - lr: 2.5000e-05\n",
            "Epoch 26/50\n",
            "32/32 [==============================] - 22s 652ms/step - loss: 3.6800 - accuracy: 0.1412 - val_loss: 3.4641 - val_accuracy: 0.1843 - lr: 2.5000e-05\n",
            "Epoch 27/50\n",
            "32/32 [==============================] - 21s 648ms/step - loss: 3.6243 - accuracy: 0.1608 - val_loss: 3.3987 - val_accuracy: 0.2000 - lr: 2.5000e-05\n",
            "Epoch 28/50\n",
            "32/32 [==============================] - 21s 639ms/step - loss: 3.6957 - accuracy: 0.1431 - val_loss: 3.3877 - val_accuracy: 0.2118 - lr: 2.5000e-05\n",
            "Epoch 29/50\n",
            "32/32 [==============================] - 21s 649ms/step - loss: 3.5525 - accuracy: 0.1725 - val_loss: 3.3356 - val_accuracy: 0.2147 - lr: 2.5000e-05\n",
            "Epoch 30/50\n",
            "32/32 [==============================] - 21s 644ms/step - loss: 3.5503 - accuracy: 0.1657 - val_loss: 3.3491 - val_accuracy: 0.2127 - lr: 2.5000e-05\n",
            "Epoch 31/50\n",
            "32/32 [==============================] - 21s 641ms/step - loss: 3.4937 - accuracy: 0.1843 - val_loss: 3.3497 - val_accuracy: 0.2118 - lr: 2.5000e-05\n",
            "Epoch 32/50\n",
            "32/32 [==============================] - 21s 657ms/step - loss: 3.5329 - accuracy: 0.1775 - val_loss: 3.3143 - val_accuracy: 0.2206 - lr: 2.5000e-05\n",
            "Epoch 33/50\n",
            "32/32 [==============================] - 21s 640ms/step - loss: 3.5004 - accuracy: 0.1667 - val_loss: 3.3094 - val_accuracy: 0.2343 - lr: 2.5000e-05\n",
            "Epoch 34/50\n",
            "32/32 [==============================] - 26s 822ms/step - loss: 3.5217 - accuracy: 0.1657 - val_loss: 3.2737 - val_accuracy: 0.2324 - lr: 2.5000e-05\n",
            "Epoch 35/50\n",
            "32/32 [==============================] - 21s 652ms/step - loss: 3.3882 - accuracy: 0.1931 - val_loss: 3.2633 - val_accuracy: 0.2343 - lr: 2.5000e-05\n",
            "Epoch 36/50\n",
            "32/32 [==============================] - 21s 640ms/step - loss: 3.3842 - accuracy: 0.1824 - val_loss: 3.2273 - val_accuracy: 0.2294 - lr: 2.5000e-05\n",
            "Epoch 37/50\n",
            "32/32 [==============================] - 21s 638ms/step - loss: 3.4144 - accuracy: 0.1873 - val_loss: 3.2316 - val_accuracy: 0.2206 - lr: 2.5000e-05\n",
            "Epoch 38/50\n",
            "32/32 [==============================] - 21s 654ms/step - loss: 3.3659 - accuracy: 0.1804 - val_loss: 3.2331 - val_accuracy: 0.2294 - lr: 2.5000e-05\n",
            "Epoch 39/50\n",
            "32/32 [==============================] - 21s 662ms/step - loss: 3.3031 - accuracy: 0.1990 - val_loss: 3.1921 - val_accuracy: 0.2235 - lr: 2.5000e-05\n",
            "Epoch 40/50\n",
            "32/32 [==============================] - 21s 660ms/step - loss: 3.2445 - accuracy: 0.2147 - val_loss: 3.1257 - val_accuracy: 0.2500 - lr: 2.5000e-05\n",
            "Epoch 41/50\n",
            "32/32 [==============================] - 22s 662ms/step - loss: 3.1547 - accuracy: 0.2137 - val_loss: 3.1369 - val_accuracy: 0.2510 - lr: 2.5000e-05\n",
            "Epoch 42/50\n",
            "32/32 [==============================] - 21s 657ms/step - loss: 3.1063 - accuracy: 0.2314 - val_loss: 3.1433 - val_accuracy: 0.2480 - lr: 2.5000e-05\n",
            "Epoch 43/50\n",
            "32/32 [==============================] - 21s 654ms/step - loss: 3.2355 - accuracy: 0.2235 - val_loss: 3.1420 - val_accuracy: 0.2559 - lr: 2.5000e-05\n",
            "Epoch 44/50\n",
            "32/32 [==============================] - 21s 651ms/step - loss: 3.1758 - accuracy: 0.2176 - val_loss: 3.1294 - val_accuracy: 0.2637 - lr: 2.5000e-05\n",
            "Epoch 45/50\n",
            "32/32 [==============================] - 22s 655ms/step - loss: 3.1607 - accuracy: 0.2412 - val_loss: 3.1362 - val_accuracy: 0.2559 - lr: 2.5000e-05\n",
            "Epoch 46/50\n",
            "32/32 [==============================] - 21s 653ms/step - loss: 3.0562 - accuracy: 0.2500 - val_loss: 3.0718 - val_accuracy: 0.2725 - lr: 1.2500e-05\n",
            "Epoch 47/50\n",
            "32/32 [==============================] - 21s 652ms/step - loss: 3.0015 - accuracy: 0.2598 - val_loss: 3.0575 - val_accuracy: 0.2735 - lr: 1.2500e-05\n",
            "Epoch 48/50\n",
            "32/32 [==============================] - 21s 639ms/step - loss: 3.0049 - accuracy: 0.2569 - val_loss: 3.0963 - val_accuracy: 0.2647 - lr: 1.2500e-05\n",
            "Epoch 49/50\n",
            "32/32 [==============================] - 21s 651ms/step - loss: 2.8898 - accuracy: 0.2804 - val_loss: 3.0702 - val_accuracy: 0.2794 - lr: 1.2500e-05\n",
            "Epoch 50/50\n",
            "32/32 [==============================] - 21s 638ms/step - loss: 2.9133 - accuracy: 0.2657 - val_loss: 2.9981 - val_accuracy: 0.2853 - lr: 1.2500e-05\n"
          ]
        },
        {
          "output_type": "execute_result",
          "data": {
            "text/plain": [
              "<keras.callbacks.History at 0x7f849d9ad540>"
            ]
          },
          "metadata": {},
          "execution_count": 7
        }
      ],
      "source": [
        "model = make_model(input_shape=(IMAGE_RES, IMAGE_RES) + (3,), num_classes=102)\n",
        "#keras.utils.plot_model(model, show_shapes=True)\n",
        "\n",
        "epochs = 50\n",
        "\n",
        "reduce_lr = tf.keras.callbacks.ReduceLROnPlateau(monitor='val_loss', factor=0.5, patience=5, min_lr=0.000001)\n",
        "\n",
        "model.compile(\n",
        "    optimizer=tf.keras.optimizers.Adam(learning_rate=0.0001),\n",
        "    loss=tf.keras.losses.SparseCategoricalCrossentropy(from_logits=True),\n",
        "    metrics=[\"accuracy\"],\n",
        ")\n",
        "\n",
        "model.fit(\n",
        "    train_batches,\n",
        "    epochs=epochs,\n",
        "    validation_data=validation_batches,\n",
        "    batch_size=BATCH_SIZE,\n",
        "    validation_batch_size=BATCH_SIZE,\n",
        "    verbose=1,\n",
        "    callbacks=[reduce_lr]\n",
        ")"
      ]
    },
    {
      "cell_type": "code",
      "source": [
        "model.save('OxfordFlowers102-2.keras')"
      ],
      "metadata": {
        "id": "3tNYk4A0-VT7"
      },
      "execution_count": 15,
      "outputs": []
    },
    {
      "cell_type": "code",
      "execution_count": 8,
      "metadata": {
        "colab": {
          "base_uri": "https://localhost:8080/"
        },
        "id": "4324daheKXsn",
        "outputId": "76f52dbc-a7ed-410a-a2d2-9cf1425db1ed"
      },
      "outputs": [
        {
          "output_type": "stream",
          "name": "stdout",
          "text": [
            "193/193 [==============================] - 27s 140ms/step - loss: 3.2010 - accuracy: 0.2420\n",
            "Test accuracy: 0.2419905662536621\n"
          ]
        }
      ],
      "source": [
        "test_loss, test_acc = model.evaluate(test_batches, verbose=1, batch_size=BATCH_SIZE)\n",
        "print(\"Test accuracy:\", test_acc)"
      ]
    }
  ],
  "metadata": {
    "accelerator": "GPU",
    "colab": {
      "gpuType": "T4",
      "provenance": [],
      "include_colab_link": true
    },
    "gpuClass": "standard",
    "kernelspec": {
      "display_name": "Python 3",
      "name": "python3"
    },
    "language_info": {
      "codemirror_mode": {
        "name": "ipython",
        "version": 3
      },
      "file_extension": ".py",
      "mimetype": "text/x-python",
      "name": "python",
      "nbconvert_exporter": "python",
      "pygments_lexer": "ipython3",
      "version": "3.11.1"
    }
  },
  "nbformat": 4,
  "nbformat_minor": 0
}