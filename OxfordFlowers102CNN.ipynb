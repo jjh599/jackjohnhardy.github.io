{
  "cells": [
    {
      "cell_type": "markdown",
      "metadata": {
        "id": "view-in-github",
        "colab_type": "text"
      },
      "source": [
        "<a href=\"https://colab.research.google.com/github/jjh599/jackjohnhardy.github.io/blob/main/OxfordFlowers102CNN.ipynb\" target=\"_parent\"><img src=\"https://colab.research.google.com/assets/colab-badge.svg\" alt=\"Open In Colab\"/></a>"
      ]
    },
    {
      "cell_type": "code",
      "execution_count": 1,
      "metadata": {
        "id": "egaLH944BBD5"
      },
      "outputs": [],
      "source": [
        "import numpy as np\n",
        "import pandas as pd\n",
        "import tensorflow as tf\n",
        "from tensorflow import keras\n",
        "from keras import layers\n",
        "import tensorflow_datasets as tfds\n",
        "import matplotlib.pyplot as plt\n",
        "#device_name = tf.test.gpu_device_name()\n",
        "#if device_name != '/device:GPU:0':\n",
        "#  raise SystemError('GPU device not found')\n",
        "#print('Found GPU at: {}'.format(device_name))\n",
        "\n",
        "dataset, dataset_info = tfds.load('oxford_flowers102', with_info=True, as_supervised=True)\n",
        "dataset_info\n",
        "test_set, training_set, validation_set = dataset['test'], dataset['train'], dataset['validation']"
      ]
    },
    {
      "cell_type": "code",
      "execution_count": 2,
      "metadata": {
        "colab": {
          "base_uri": "https://localhost:8080/"
        },
        "id": "H8JAGNFt3PGE",
        "outputId": "70f9c138-5f1f-4c97-cdb9-21200ea630e9"
      },
      "outputs": [
        {
          "output_type": "stream",
          "name": "stdout",
          "text": [
            "Physical devices cannot be modified after being initialized\n",
            "[PhysicalDevice(name='/physical_device:GPU:0', device_type='GPU')]\n"
          ]
        }
      ],
      "source": [
        "import tensorflow as tf\n",
        "tf.config.experimental.list_physical_devices('GPU')\n",
        "gpus = tf.config.experimental.list_physical_devices('GPU')\n",
        "if gpus:\n",
        "  try:\n",
        "    for gpu in gpus:\n",
        "      tf.config.experimental.set_memory_growth(gpu, True)\n",
        "  except RuntimeError as e:\n",
        "    print(e)\n",
        "\n",
        "print(gpus)"
      ]
    },
    {
      "cell_type": "markdown",
      "metadata": {
        "id": "hgSxJm7OYeKN"
      },
      "source": [
        "Importing TensorFlow "
      ]
    },
    {
      "cell_type": "code",
      "execution_count": 3,
      "metadata": {
        "id": "ql9q6LSWMZRk"
      },
      "outputs": [],
      "source": [
        "num_classes = dataset_info.features['label'].num_classes\n",
        "num_training_examples = 1020\n",
        "num_validation_examples = 1020"
      ]
    },
    {
      "cell_type": "code",
      "execution_count": 4,
      "metadata": {
        "id": "xwksk4asQhtr"
      },
      "outputs": [],
      "source": [
        "IMAGE_RES = 224\n",
        "\n",
        "def format_image(image, label):\n",
        "    image = tf.image.resize(image, (IMAGE_RES, IMAGE_RES))/255.0\n",
        "    #label = tf.one_hot(label, depth=num_classes)\n",
        "    return image, label\n",
        "BATCH_SIZE = 32\n",
        "train_batches = training_set.shuffle(num_training_examples//4).map(format_image).batch(BATCH_SIZE).prefetch(1)\n",
        "validation_batches = validation_set.shuffle(num_validation_examples//4).map(format_image).batch(BATCH_SIZE).prefetch(1)\n",
        "test_batches = test_set.map(format_image).batch(BATCH_SIZE).prefetch(1)\n"
      ]
    },
    {
      "cell_type": "code",
      "execution_count": 5,
      "metadata": {
        "id": "9WgfAXPgjFd5"
      },
      "outputs": [],
      "source": [
        "def make_model(input_shape, num_classes):\n",
        "  model = tf.keras.Sequential()\n",
        "  model.add(layers.RandomFlip(\"horizontal_and_vertical\", input_shape=input_shape))\n",
        "  model.add(layers.RandomRotation(20))\n",
        "  model.add(layers.RandomZoom(0.2))\n",
        "  #model.add(layers.RandomContrast(factor=(0.0, 0.1)))\n",
        "  model.add(layers.Conv2D(64, 3, padding='same', activation='relu')) #64 filters, kernel size 3x3, stride = 1\n",
        "  model.add(layers.BatchNormalization())\n",
        "  model.add(layers.Conv2D(64, 3, padding='same', activation='relu')) \n",
        "  model.add(layers.BatchNormalization())\n",
        "  model.add(layers.MaxPooling2D())                                   #2x2 pooling, stride of 2\n",
        "  model.add(layers.Conv2D(128, 3, padding='same', activation='relu'))\n",
        "  model.add(layers.BatchNormalization())\n",
        "  model.add(layers.Conv2D(128, 3, padding='same', activation='relu'))\n",
        "  model.add(layers.BatchNormalization())\n",
        "  model.add(layers.MaxPooling2D())\n",
        "  model.add(layers.Conv2D(256, 3, padding='same', activation='relu'))\n",
        "  model.add(layers.BatchNormalization())\n",
        "  model.add(layers.Conv2D(256, 3, padding='same', activation='relu'))\n",
        "  model.add(layers.BatchNormalization())\n",
        "  model.add(layers.Conv2D(256, 3, padding='same', activation='relu'))\n",
        "  model.add(layers.BatchNormalization())\n",
        "  model.add(layers.MaxPooling2D())\n",
        "  model.add(layers.Conv2D(512, 3, padding='same', activation='relu'))\n",
        "  model.add(layers.BatchNormalization())\n",
        "  model.add(layers.Conv2D(512, 3, padding='same', activation='relu'))\n",
        "  model.add(layers.BatchNormalization())\n",
        "  model.add(layers.Conv2D(512, 3, padding='same', activation='relu'))\n",
        "  model.add(layers.BatchNormalization())\n",
        "  model.add(layers.MaxPooling2D())\n",
        "  model.add(layers.Conv2D(512, 3, padding='same', activation='relu'))\n",
        "  model.add(layers.BatchNormalization())\n",
        "  model.add(layers.Conv2D(512, 3, padding='same', activation='relu'))\n",
        "  model.add(layers.BatchNormalization())\n",
        "  model.add(layers.Conv2D(512, 3, padding='same', activation='relu'))\n",
        "  model.add(layers.BatchNormalization())\n",
        "  model.add(layers.MaxPooling2D())\n",
        "  model.add(layers.Flatten())\n",
        "  model.add(layers.Dense(4096, activation='relu'))\n",
        "  model.add(layers.Dropout(0.5))\n",
        "  model.add(layers.Dense(4096, activation='relu'))\n",
        "  model.add(layers.Dropout(0.5))\n",
        "  model.add(layers.Dense(1024, activation='relu'))\n",
        "  model.add(layers.Dropout(0.5))\n",
        "  model.add(layers.Dense(num_classes))\n",
        "  return model\n"
      ]
    },
    {
      "cell_type": "code",
      "execution_count": 6,
      "metadata": {
        "id": "tF9v2wo9F8LW"
      },
      "outputs": [],
      "source": [
        "tf.keras.backend.clear_session()"
      ]
    },
    {
      "cell_type": "code",
      "execution_count": 9,
      "metadata": {
        "colab": {
          "base_uri": "https://localhost:8080/"
        },
        "id": "pumHmqXelH38",
        "outputId": "10de0cfe-7d99-4e57-bef2-b746c7201634"
      },
      "outputs": [
        {
          "output_type": "stream",
          "name": "stdout",
          "text": [
            "Epoch 1/50\n",
            "32/32 [==============================] - 26s 627ms/step - loss: 6.6633 - accuracy: 0.0127 - val_loss: 4.6324 - val_accuracy: 0.0147 - lr: 0.0100\n",
            "Epoch 2/50\n",
            "32/32 [==============================] - 21s 638ms/step - loss: 5.1925 - accuracy: 0.0127 - val_loss: 4.5984 - val_accuracy: 0.0167 - lr: 0.0100\n",
            "Epoch 3/50\n",
            "32/32 [==============================] - 21s 638ms/step - loss: 4.8549 - accuracy: 0.0265 - val_loss: 4.5822 - val_accuracy: 0.0176 - lr: 0.0100\n",
            "Epoch 4/50\n",
            "32/32 [==============================] - 21s 638ms/step - loss: 4.7893 - accuracy: 0.0196 - val_loss: 4.5869 - val_accuracy: 0.0176 - lr: 0.0100\n",
            "Epoch 5/50\n",
            "32/32 [==============================] - 20s 626ms/step - loss: 4.5935 - accuracy: 0.0304 - val_loss: 4.5924 - val_accuracy: 0.0235 - lr: 0.0100\n",
            "Epoch 6/50\n",
            "32/32 [==============================] - 20s 632ms/step - loss: 4.5045 - accuracy: 0.0471 - val_loss: 4.5961 - val_accuracy: 0.0118 - lr: 0.0100\n",
            "Epoch 7/50\n",
            "32/32 [==============================] - 21s 648ms/step - loss: 4.4758 - accuracy: 0.0392 - val_loss: 4.5064 - val_accuracy: 0.0225 - lr: 0.0100\n",
            "Epoch 8/50\n",
            "32/32 [==============================] - 21s 644ms/step - loss: 4.4168 - accuracy: 0.0284 - val_loss: 4.4868 - val_accuracy: 0.0255 - lr: 0.0100\n",
            "Epoch 9/50\n",
            "32/32 [==============================] - 21s 635ms/step - loss: 4.3596 - accuracy: 0.0490 - val_loss: 4.4093 - val_accuracy: 0.0343 - lr: 0.0100\n",
            "Epoch 10/50\n",
            "32/32 [==============================] - 21s 646ms/step - loss: 4.2931 - accuracy: 0.0539 - val_loss: 4.3400 - val_accuracy: 0.0402 - lr: 0.0100\n",
            "Epoch 11/50\n",
            "32/32 [==============================] - 21s 647ms/step - loss: 4.2320 - accuracy: 0.0559 - val_loss: 4.1970 - val_accuracy: 0.0657 - lr: 0.0100\n",
            "Epoch 12/50\n",
            "32/32 [==============================] - 21s 645ms/step - loss: 4.2206 - accuracy: 0.0608 - val_loss: 4.1276 - val_accuracy: 0.0647 - lr: 0.0100\n",
            "Epoch 13/50\n",
            "32/32 [==============================] - 21s 642ms/step - loss: 4.1434 - accuracy: 0.0745 - val_loss: 4.0782 - val_accuracy: 0.0892 - lr: 0.0100\n",
            "Epoch 14/50\n",
            "32/32 [==============================] - 21s 641ms/step - loss: 4.0926 - accuracy: 0.0559 - val_loss: 3.9127 - val_accuracy: 0.0882 - lr: 0.0100\n",
            "Epoch 15/50\n",
            "32/32 [==============================] - 21s 639ms/step - loss: 4.0313 - accuracy: 0.0647 - val_loss: 3.8277 - val_accuracy: 0.1275 - lr: 0.0100\n",
            "Epoch 16/50\n",
            "32/32 [==============================] - 21s 643ms/step - loss: 4.0092 - accuracy: 0.0716 - val_loss: 3.7652 - val_accuracy: 0.1235 - lr: 0.0100\n",
            "Epoch 17/50\n",
            "32/32 [==============================] - 21s 650ms/step - loss: 3.9725 - accuracy: 0.0706 - val_loss: 3.7501 - val_accuracy: 0.1255 - lr: 0.0100\n",
            "Epoch 18/50\n",
            "32/32 [==============================] - 21s 650ms/step - loss: 3.8810 - accuracy: 0.0814 - val_loss: 3.7437 - val_accuracy: 0.1314 - lr: 0.0100\n",
            "Epoch 19/50\n",
            "32/32 [==============================] - 21s 646ms/step - loss: 3.8792 - accuracy: 0.0804 - val_loss: 3.6197 - val_accuracy: 0.1294 - lr: 0.0100\n",
            "Epoch 20/50\n",
            "32/32 [==============================] - 21s 637ms/step - loss: 3.8243 - accuracy: 0.0882 - val_loss: 3.6498 - val_accuracy: 0.1353 - lr: 0.0100\n",
            "Epoch 21/50\n",
            "32/32 [==============================] - 21s 643ms/step - loss: 3.7543 - accuracy: 0.0941 - val_loss: 3.6046 - val_accuracy: 0.1431 - lr: 0.0100\n",
            "Epoch 22/50\n",
            "32/32 [==============================] - 21s 635ms/step - loss: 3.7332 - accuracy: 0.0980 - val_loss: 3.5803 - val_accuracy: 0.1529 - lr: 0.0100\n",
            "Epoch 23/50\n",
            "32/32 [==============================] - 21s 640ms/step - loss: 3.6903 - accuracy: 0.1235 - val_loss: 3.5228 - val_accuracy: 0.1706 - lr: 0.0100\n",
            "Epoch 24/50\n",
            "32/32 [==============================] - 21s 635ms/step - loss: 3.6285 - accuracy: 0.1216 - val_loss: 3.4732 - val_accuracy: 0.1637 - lr: 0.0100\n",
            "Epoch 25/50\n",
            "32/32 [==============================] - 21s 638ms/step - loss: 3.5565 - accuracy: 0.1265 - val_loss: 3.4313 - val_accuracy: 0.1657 - lr: 0.0100\n",
            "Epoch 26/50\n",
            "32/32 [==============================] - 21s 642ms/step - loss: 3.5829 - accuracy: 0.1186 - val_loss: 3.4461 - val_accuracy: 0.1784 - lr: 0.0100\n",
            "Epoch 27/50\n",
            "32/32 [==============================] - 21s 643ms/step - loss: 3.5332 - accuracy: 0.1157 - val_loss: 3.4601 - val_accuracy: 0.1647 - lr: 0.0100\n",
            "Epoch 28/50\n",
            "32/32 [==============================] - 21s 639ms/step - loss: 3.5194 - accuracy: 0.1284 - val_loss: 3.3596 - val_accuracy: 0.2020 - lr: 0.0100\n",
            "Epoch 29/50\n",
            "32/32 [==============================] - 20s 627ms/step - loss: 3.4369 - accuracy: 0.1480 - val_loss: 3.4281 - val_accuracy: 0.1882 - lr: 0.0100\n",
            "Epoch 30/50\n",
            "32/32 [==============================] - 21s 641ms/step - loss: 3.3880 - accuracy: 0.1510 - val_loss: 3.3907 - val_accuracy: 0.1833 - lr: 0.0100\n",
            "Epoch 31/50\n",
            "32/32 [==============================] - 21s 643ms/step - loss: 3.3865 - accuracy: 0.1490 - val_loss: 3.4344 - val_accuracy: 0.1971 - lr: 0.0100\n",
            "Epoch 32/50\n",
            "32/32 [==============================] - 21s 639ms/step - loss: 3.3644 - accuracy: 0.1520 - val_loss: 3.3465 - val_accuracy: 0.2049 - lr: 0.0100\n",
            "Epoch 33/50\n",
            "32/32 [==============================] - 21s 641ms/step - loss: 3.3299 - accuracy: 0.1608 - val_loss: 3.3558 - val_accuracy: 0.1892 - lr: 0.0100\n",
            "Epoch 34/50\n",
            "32/32 [==============================] - 21s 645ms/step - loss: 3.3281 - accuracy: 0.1598 - val_loss: 3.2665 - val_accuracy: 0.2059 - lr: 0.0100\n",
            "Epoch 35/50\n",
            "32/32 [==============================] - 20s 628ms/step - loss: 3.2609 - accuracy: 0.1735 - val_loss: 3.4548 - val_accuracy: 0.1833 - lr: 0.0100\n",
            "Epoch 36/50\n",
            "32/32 [==============================] - 21s 647ms/step - loss: 3.1621 - accuracy: 0.1814 - val_loss: 3.2211 - val_accuracy: 0.2225 - lr: 0.0100\n",
            "Epoch 37/50\n",
            "32/32 [==============================] - 21s 645ms/step - loss: 3.2207 - accuracy: 0.1853 - val_loss: 3.1836 - val_accuracy: 0.2490 - lr: 0.0100\n",
            "Epoch 38/50\n",
            "32/32 [==============================] - 20s 635ms/step - loss: 3.2130 - accuracy: 0.1912 - val_loss: 3.2195 - val_accuracy: 0.2412 - lr: 0.0100\n",
            "Epoch 39/50\n",
            "32/32 [==============================] - 21s 638ms/step - loss: 3.1322 - accuracy: 0.1833 - val_loss: 3.2036 - val_accuracy: 0.2343 - lr: 0.0100\n",
            "Epoch 40/50\n",
            "32/32 [==============================] - 21s 644ms/step - loss: 3.1049 - accuracy: 0.2078 - val_loss: 3.1129 - val_accuracy: 0.2343 - lr: 0.0100\n",
            "Epoch 41/50\n",
            "32/32 [==============================] - 21s 644ms/step - loss: 3.0928 - accuracy: 0.2098 - val_loss: 3.2076 - val_accuracy: 0.2343 - lr: 0.0100\n",
            "Epoch 42/50\n",
            "32/32 [==============================] - 21s 636ms/step - loss: 3.0439 - accuracy: 0.2078 - val_loss: 3.1214 - val_accuracy: 0.2539 - lr: 0.0100\n",
            "Epoch 43/50\n",
            "32/32 [==============================] - 21s 649ms/step - loss: 3.0526 - accuracy: 0.2176 - val_loss: 3.2088 - val_accuracy: 0.2422 - lr: 0.0100\n",
            "Epoch 44/50\n",
            "32/32 [==============================] - 21s 650ms/step - loss: 2.9931 - accuracy: 0.2069 - val_loss: 3.1129 - val_accuracy: 0.2559 - lr: 0.0100\n",
            "Epoch 45/50\n",
            "32/32 [==============================] - 21s 643ms/step - loss: 2.9651 - accuracy: 0.2275 - val_loss: 3.1251 - val_accuracy: 0.2608 - lr: 0.0100\n",
            "Epoch 46/50\n",
            "32/32 [==============================] - 21s 636ms/step - loss: 2.8411 - accuracy: 0.2422 - val_loss: 3.0170 - val_accuracy: 0.2706 - lr: 0.0050\n",
            "Epoch 47/50\n",
            "32/32 [==============================] - 21s 631ms/step - loss: 2.7791 - accuracy: 0.2696 - val_loss: 3.0113 - val_accuracy: 0.2794 - lr: 0.0050\n",
            "Epoch 48/50\n",
            "32/32 [==============================] - 21s 643ms/step - loss: 2.7586 - accuracy: 0.2765 - val_loss: 2.9764 - val_accuracy: 0.2882 - lr: 0.0050\n",
            "Epoch 49/50\n",
            "32/32 [==============================] - 20s 626ms/step - loss: 2.7156 - accuracy: 0.2627 - val_loss: 2.9506 - val_accuracy: 0.2882 - lr: 0.0050\n",
            "Epoch 50/50\n",
            "32/32 [==============================] - 21s 644ms/step - loss: 2.7811 - accuracy: 0.2500 - val_loss: 2.9473 - val_accuracy: 0.2814 - lr: 0.0050\n"
          ]
        },
        {
          "output_type": "execute_result",
          "data": {
            "text/plain": [
              "<keras.callbacks.History at 0x7f8484d6be50>"
            ]
          },
          "metadata": {},
          "execution_count": 9
        }
      ],
      "source": [
        "model = make_model(input_shape=(IMAGE_RES, IMAGE_RES) + (3,), num_classes=102)\n",
        "#keras.utils.plot_model(model, show_shapes=True)\n",
        "\n",
        "epochs = 50\n",
        "\n",
        "reduce_lr = tf.keras.callbacks.ReduceLROnPlateau(monitor='val_loss', factor=0.5, patience=5, min_lr=0.000001)\n",
        "\n",
        "model.compile(\n",
        "    optimizer=tf.keras.optimizers.SGD(),\n",
        "    loss=tf.keras.losses.SparseCategoricalCrossentropy(from_logits=True),\n",
        "    metrics=[\"accuracy\"],\n",
        ")\n",
        "\n",
        "model.fit(\n",
        "    train_batches,\n",
        "    epochs=epochs,\n",
        "    validation_data=validation_batches,\n",
        "    batch_size=BATCH_SIZE,\n",
        "    validation_batch_size=BATCH_SIZE,\n",
        "    verbose=1,\n",
        "    callbacks=[reduce_lr]\n",
        ")"
      ]
    },
    {
      "cell_type": "code",
      "source": [
        "model.save('OxfordFlowers102-2.keras')"
      ],
      "metadata": {
        "id": "3tNYk4A0-VT7"
      },
      "execution_count": 15,
      "outputs": []
    },
    {
      "cell_type": "code",
      "execution_count": 8,
      "metadata": {
        "colab": {
          "base_uri": "https://localhost:8080/"
        },
        "id": "4324daheKXsn",
        "outputId": "76f52dbc-a7ed-410a-a2d2-9cf1425db1ed"
      },
      "outputs": [
        {
          "output_type": "stream",
          "name": "stdout",
          "text": [
            "193/193 [==============================] - 27s 140ms/step - loss: 3.2010 - accuracy: 0.2420\n",
            "Test accuracy: 0.2419905662536621\n"
          ]
        }
      ],
      "source": [
        "test_loss, test_acc = model.evaluate(test_batches, verbose=1, batch_size=BATCH_SIZE)\n",
        "print(\"Test accuracy:\", test_acc)"
      ]
    }
  ],
  "metadata": {
    "accelerator": "GPU",
    "colab": {
      "gpuType": "T4",
      "provenance": [],
      "include_colab_link": true
    },
    "gpuClass": "standard",
    "kernelspec": {
      "display_name": "Python 3",
      "name": "python3"
    },
    "language_info": {
      "codemirror_mode": {
        "name": "ipython",
        "version": 3
      },
      "file_extension": ".py",
      "mimetype": "text/x-python",
      "name": "python",
      "nbconvert_exporter": "python",
      "pygments_lexer": "ipython3",
      "version": "3.11.1"
    }
  },
  "nbformat": 4,
  "nbformat_minor": 0
}